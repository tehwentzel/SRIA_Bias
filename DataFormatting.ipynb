{
 "cells": [
  {
   "cell_type": "code",
   "execution_count": 2,
   "id": "5242e5fb",
   "metadata": {},
   "outputs": [],
   "source": [
    "import torch\n",
    "import pandas as pd\n",
    "import numpy as np\n",
    "import matplotlib.pyplot as plt\n",
    "from PIL import Image\n",
    "from scipy.ndimage import rotate\n",
    "import Utils\n",
    "import cv2\n",
    "from facenet_pytorch import MTCNN\n",
    "from Weights import *"
   ]
  },
  {
   "cell_type": "code",
   "execution_count": null,
   "id": "bb156980",
   "metadata": {},
   "outputs": [],
   "source": [
    "data_root = '../../data/'\n",
    "def filtered_labels(path, columns = ['skin_tone','gender','age']):\n",
    "    df = pd.read_csv(data_root + path)\n",
    "    if columns is not None and len(columns) > 0:\n",
    "        df = df.dropna(how='any',subset=columns)\n",
    "        \n",
    "    df['skin_tone'] = df.skin_tone.apply(lambda x: int(x.replace('monk_',''))-1)\n",
    "    df['gender'] = df.gender.apply(lambda x: int(x == 'male'))\n",
    "    age_map = {\n",
    "        '0_17': 0,\n",
    "        '18_30': 1,\n",
    "        '31_60': 2,\n",
    "        '61_100': 3,\n",
    "    }\n",
    "    df['age'] = df.age.apply(lambda x: age_map[x])\n",
    "    \n",
    "    return df\n",
    "\n",
    "train_labels = filtered_labels('train_labels.csv')\n",
    "test_labels = filtered_labels('labels.csv')"
   ]
  },
  {
   "cell_type": "code",
   "execution_count": null,
   "id": "c3e331cc",
   "metadata": {},
   "outputs": [],
   "source": [
    "def detect_nonfaces(df,root,image_size=256):\n",
    "    mtcnn = MTCNN(image_size = image_size)\n",
    "    def is_face(file):\n",
    "        img = Image.open(root+file)\n",
    "        try:\n",
    "            face = mtcnn(img)\n",
    "            if face is None:\n",
    "                return False\n",
    "            return True\n",
    "        except Exception as e:\n",
    "            print(e,file)\n",
    "            return True\n",
    "        \n",
    "    df['is_face'] = df.name.apply(is_face)\n",
    "    return df\n",
    "\n",
    "train_labels = detect_nonfaces(train_labels,data_root)\n",
    "test_labels = detect_nonfaces(test_labels,data_root)\n",
    "train_labels[train_labels.is_face]"
   ]
  },
  {
   "cell_type": "code",
   "execution_count": null,
   "id": "6a5cf0bc",
   "metadata": {},
   "outputs": [],
   "source": [
    "validation_labels = train_labels.sample(frac=.2,replace=False)\n",
    "train_labels = train_labels.drop(validation_labels.index)\n",
    "train_labels"
   ]
  },
  {
   "cell_type": "code",
   "execution_count": null,
   "id": "5ed5657a",
   "metadata": {},
   "outputs": [],
   "source": [
    "train_labels.to_csv('train_data_clean.csv',index=False)\n",
    "validation_labels.to_csv('validation_data_clean.csv',index=False)\n",
    "test_labels.to_csv('test_data_clean.csv',index=False)"
   ]
  },
  {
   "cell_type": "code",
   "execution_count": null,
   "id": "f65db24d",
   "metadata": {},
   "outputs": [],
   "source": []
  }
 ],
 "metadata": {
  "kernelspec": {
   "display_name": "Python 3",
   "language": "python",
   "name": "python3"
  },
  "language_info": {
   "codemirror_mode": {
    "name": "ipython",
    "version": 3
   },
   "file_extension": ".py",
   "mimetype": "text/x-python",
   "name": "python",
   "nbconvert_exporter": "python",
   "pygments_lexer": "ipython3",
   "version": "3.8.10"
  }
 },
 "nbformat": 4,
 "nbformat_minor": 5
}
