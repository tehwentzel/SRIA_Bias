{
 "cells": [
  {
   "cell_type": "code",
   "execution_count": 1,
   "id": "5242e5fb",
   "metadata": {},
   "outputs": [],
   "source": [
    "%load_ext autoreload\n",
    "%autoreload 2"
   ]
  },
  {
   "cell_type": "code",
   "execution_count": 2,
   "id": "3d450bdf-5923-4b87-8b61-6133cd4d7491",
   "metadata": {},
   "outputs": [],
   "source": [
    "import torch\n",
    "import pandas as pd\n",
    "import numpy as np\n",
    "import matplotlib.pyplot as plt\n",
    "from PIL import Image\n",
    "from scipy.ndimage import rotate\n",
    "import Utils\n",
    "from Utils import Constants\n",
    "import cv2\n",
    "from facenet_pytorch import InceptionResnetV1\n",
    "import copy\n",
    "from Models import *\n",
    "from DataLoaders import *"
   ]
  },
  {
   "cell_type": "code",
   "execution_count": 3,
   "id": "bb156980",
   "metadata": {},
   "outputs": [
    {
     "data": {
      "text/plain": [
       "((6842, 166), (1711, 166))"
      ]
     },
     "execution_count": 3,
     "metadata": {},
     "output_type": "execute_result"
    }
   ],
   "source": [
    "train_labels = pd.read_csv('train_data_augmented_balanceddual.csv')\n",
    "validation_labels = pd.read_csv('validation_data_augmented_balanceddual.csv')\n",
    "train_labels.shape, validation_labels.shape"
   ]
  },
  {
   "cell_type": "code",
   "execution_count": 4,
   "id": "02e6f6cd-7a43-48de-a6ac-747821eddb8c",
   "metadata": {
    "scrolled": true,
    "tags": []
   },
   "outputs": [],
   "source": [
    "def get_model(file,model=None):\n",
    "    if model is None:\n",
    "        model = torch.load(Constants.model_folder + file).to(torch.device('cpu'))\n",
    "    model.load_state_dict(torch.load(Constants.model_folder + file + '_states'))\n",
    "    model.eval()\n",
    "    return model\n"
   ]
  },
  {
   "cell_type": "code",
   "execution_count": 5,
   "id": "d5426fc1-8d63-4f17-aff7-1803ae493fbf",
   "metadata": {},
   "outputs": [],
   "source": [
    "# temp_generator = TripletFaceGenerator2(train_labels,Constants.data_root)\n",
    "# batch = next(iter(temp_generator))\n",
    "# [len(b) for b in batch]"
   ]
  },
  {
   "cell_type": "code",
   "execution_count": null,
   "id": "ed7e1486-f1e6-4e48-92f0-9e3e72f1896b",
   "metadata": {},
   "outputs": [],
   "source": [
    "pd.DataFrame(results).sort_values('score',ascending=False).model.iloc[0]"
   ]
  },
  {
   "cell_type": "code",
   "execution_count": null,
   "id": "2dbcaf49-3a9c-45c1-93e7-888fef3dbc34",
   "metadata": {},
   "outputs": [],
   "source": [
    "test = TripletModel2(encoder=TripletFacenetEncoder(),name='gridsearch_baseline')\n",
    "test.encoder.embedding_size"
   ]
  },
  {
   "cell_type": "code",
   "execution_count": null,
   "id": "75a69f57-285b-4807-8b1f-c1f5217a6a3d",
   "metadata": {},
   "outputs": [],
   "source": [
    "print('lol')"
   ]
  },
  {
   "cell_type": "code",
   "execution_count": null,
   "id": "427653cd",
   "metadata": {},
   "outputs": [],
   "source": []
  }
 ],
 "metadata": {
  "kernelspec": {
   "display_name": "Python 3",
   "language": "python",
   "name": "python3"
  },
  "language_info": {
   "codemirror_mode": {
    "name": "ipython",
    "version": 3
   },
   "file_extension": ".py",
   "mimetype": "text/x-python",
   "name": "python",
   "nbconvert_exporter": "python",
   "pygments_lexer": "ipython3",
   "version": "3.8.10"
  }
 },
 "nbformat": 4,
 "nbformat_minor": 5
}
