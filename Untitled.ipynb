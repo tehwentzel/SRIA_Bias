{
 "cells": [
  {
   "cell_type": "code",
   "execution_count": 1,
   "id": "cb78f954-5c5d-4051-a47e-3dc8f8b3c267",
   "metadata": {},
   "outputs": [],
   "source": [
    "import torch\n",
    "import pandas as pd\n",
    "import numpy as np\n",
    "import matplotlib.pyplot as plt\n",
    "from PIL import Image\n",
    "from scipy.ndimage import rotate\n",
    "import Utils\n",
    "from Utils import Constants\n",
    "import cv2\n",
    "from facenet_pytorch import InceptionResnetV1\n",
    "from Models import *\n",
    "from DataLoaders import *"
   ]
  },
  {
   "cell_type": "code",
   "execution_count": 2,
   "id": "518257a5-f5b9-4bfb-9c9e-f747d96c4242",
   "metadata": {},
   "outputs": [
    {
     "data": {
      "text/html": [
       "<div>\n",
       "<style scoped>\n",
       "    .dataframe tbody tr th:only-of-type {\n",
       "        vertical-align: middle;\n",
       "    }\n",
       "\n",
       "    .dataframe tbody tr th {\n",
       "        vertical-align: top;\n",
       "    }\n",
       "\n",
       "    .dataframe thead th {\n",
       "        text-align: right;\n",
       "    }\n",
       "</style>\n",
       "<table border=\"1\" class=\"dataframe\">\n",
       "  <thead>\n",
       "    <tr style=\"text-align: right;\">\n",
       "      <th></th>\n",
       "      <th>name</th>\n",
       "      <th>skin_tone</th>\n",
       "      <th>gender</th>\n",
       "      <th>age</th>\n",
       "      <th>is_face</th>\n",
       "    </tr>\n",
       "  </thead>\n",
       "  <tbody>\n",
       "    <tr>\n",
       "      <th>0</th>\n",
       "      <td>TRAIN0001.png</td>\n",
       "      <td>0</td>\n",
       "      <td>0</td>\n",
       "      <td>1</td>\n",
       "      <td>False</td>\n",
       "    </tr>\n",
       "    <tr>\n",
       "      <th>1</th>\n",
       "      <td>TRAIN0002.png</td>\n",
       "      <td>5</td>\n",
       "      <td>1</td>\n",
       "      <td>0</td>\n",
       "      <td>True</td>\n",
       "    </tr>\n",
       "    <tr>\n",
       "      <th>2</th>\n",
       "      <td>TRAIN0005.png</td>\n",
       "      <td>1</td>\n",
       "      <td>1</td>\n",
       "      <td>0</td>\n",
       "      <td>False</td>\n",
       "    </tr>\n",
       "    <tr>\n",
       "      <th>3</th>\n",
       "      <td>TRAIN0007.png</td>\n",
       "      <td>1</td>\n",
       "      <td>0</td>\n",
       "      <td>1</td>\n",
       "      <td>True</td>\n",
       "    </tr>\n",
       "    <tr>\n",
       "      <th>4</th>\n",
       "      <td>TRAIN0009.png</td>\n",
       "      <td>7</td>\n",
       "      <td>0</td>\n",
       "      <td>1</td>\n",
       "      <td>False</td>\n",
       "    </tr>\n",
       "    <tr>\n",
       "      <th>...</th>\n",
       "      <td>...</td>\n",
       "      <td>...</td>\n",
       "      <td>...</td>\n",
       "      <td>...</td>\n",
       "      <td>...</td>\n",
       "    </tr>\n",
       "    <tr>\n",
       "      <th>6837</th>\n",
       "      <td>TRAIN9992.png</td>\n",
       "      <td>4</td>\n",
       "      <td>0</td>\n",
       "      <td>2</td>\n",
       "      <td>True</td>\n",
       "    </tr>\n",
       "    <tr>\n",
       "      <th>6838</th>\n",
       "      <td>TRAIN9993.png</td>\n",
       "      <td>1</td>\n",
       "      <td>1</td>\n",
       "      <td>1</td>\n",
       "      <td>True</td>\n",
       "    </tr>\n",
       "    <tr>\n",
       "      <th>6839</th>\n",
       "      <td>TRAIN9995.png</td>\n",
       "      <td>8</td>\n",
       "      <td>0</td>\n",
       "      <td>1</td>\n",
       "      <td>True</td>\n",
       "    </tr>\n",
       "    <tr>\n",
       "      <th>6840</th>\n",
       "      <td>TRAIN9998.png</td>\n",
       "      <td>4</td>\n",
       "      <td>1</td>\n",
       "      <td>1</td>\n",
       "      <td>False</td>\n",
       "    </tr>\n",
       "    <tr>\n",
       "      <th>6841</th>\n",
       "      <td>TRAIN9999.png</td>\n",
       "      <td>3</td>\n",
       "      <td>1</td>\n",
       "      <td>1</td>\n",
       "      <td>True</td>\n",
       "    </tr>\n",
       "  </tbody>\n",
       "</table>\n",
       "<p>6842 rows × 5 columns</p>\n",
       "</div>"
      ],
      "text/plain": [
       "               name  skin_tone  gender  age  is_face\n",
       "0     TRAIN0001.png          0       0    1    False\n",
       "1     TRAIN0002.png          5       1    0     True\n",
       "2     TRAIN0005.png          1       1    0    False\n",
       "3     TRAIN0007.png          1       0    1     True\n",
       "4     TRAIN0009.png          7       0    1    False\n",
       "...             ...        ...     ...  ...      ...\n",
       "6837  TRAIN9992.png          4       0    2     True\n",
       "6838  TRAIN9993.png          1       1    1     True\n",
       "6839  TRAIN9995.png          8       0    1     True\n",
       "6840  TRAIN9998.png          4       1    1    False\n",
       "6841  TRAIN9999.png          3       1    1     True\n",
       "\n",
       "[6842 rows x 5 columns]"
      ]
     },
     "execution_count": 2,
     "metadata": {},
     "output_type": "execute_result"
    }
   ],
   "source": [
    "train_labels = pd.read_csv('train_data_clean.csv')\n",
    "train_labels"
   ]
  },
  {
   "cell_type": "code",
   "execution_count": 17,
   "id": "50358b4e-f386-453f-865b-a6d8d1a6554b",
   "metadata": {},
   "outputs": [
    {
     "data": {
      "text/plain": [
       "(30,)"
      ]
     },
     "execution_count": 17,
     "metadata": {},
     "output_type": "execute_result"
    }
   ],
   "source": [
    "test = read_image(train_labels.name.iloc[0])\n",
    "def rgb_hist(image,**kwargs):\n",
    "    #converts a numpy image into a color histogram\n",
    "    h = lambda i: np.histogram(i,**kwargs)[0]\n",
    "    if image.ndim < 3:\n",
    "        return h(image)\n",
    "    hists = []\n",
    "    for i in range(image.shape[-1]):\n",
    "        hist = h(image[:,:,i])\n",
    "        hists.append(hist)\n",
    "    hists = np.stack(hists).ravel()\n",
    "    return hists\n",
    "    \n",
    "rgb_hist(test)"
   ]
  },
  {
   "cell_type": "code",
   "execution_count": 38,
   "id": "e105f817-64b7-4d46-8e4a-2a436afd5621",
   "metadata": {},
   "outputs": [
    {
     "data": {
      "text/plain": [
       "torch.Size([10, 300])"
      ]
     },
     "execution_count": 38,
     "metadata": {},
     "output_type": "execute_result"
    }
   ],
   "source": [
    "test = np.stack([read_image(i) for i in train_labels.name.iloc[0:10]])\n",
    "def apply_along_axis(function, x, axis: int = 0):\n",
    "    return torch.stack([\n",
    "        function(x_i) for x_i in torch.unbind(x, dim=axis)\n",
    "    ], dim=axis)\n",
    "\n",
    "def torch_histogram(image,channels=3):\n",
    "    histograms = []\n",
    "    for channel in range(channels):\n",
    "        hist = torch.histc(image[channel])\n",
    "        histograms.append(hist)\n",
    "    return torch.cat(histograms,-1)\n",
    "\n",
    "def torch_color_histogram(images):\n",
    "    if images.ndim <= 3:\n",
    "        return torch_histogram(images)\n",
    "    return apply_along_axis(torch_histogram,images,0)\n",
    "torch_color_histogram(imgs_to_torch(test,convert=True)).shape"
   ]
  },
  {
   "cell_type": "code",
   "execution_count": 32,
   "id": "01a53650-82fa-4c96-921a-20a07d94feef",
   "metadata": {},
   "outputs": [
    {
     "data": {
      "text/plain": [
       "3"
      ]
     },
     "execution_count": 32,
     "metadata": {},
     "output_type": "execute_result"
    }
   ],
   "source": [
    "imgs_to_torch(test,convert=True).ndim"
   ]
  },
  {
   "cell_type": "code",
   "execution_count": null,
   "id": "0f8d0797-0a3c-4b7e-805e-d494c060eba0",
   "metadata": {},
   "outputs": [],
   "source": [
    "torch.Tensor()"
   ]
  }
 ],
 "metadata": {
  "kernelspec": {
   "display_name": "Python 3",
   "language": "python",
   "name": "python3"
  },
  "language_info": {
   "codemirror_mode": {
    "name": "ipython",
    "version": 3
   },
   "file_extension": ".py",
   "mimetype": "text/x-python",
   "name": "python",
   "nbconvert_exporter": "python",
   "pygments_lexer": "ipython3",
   "version": "3.8.10"
  }
 },
 "nbformat": 4,
 "nbformat_minor": 5
}
