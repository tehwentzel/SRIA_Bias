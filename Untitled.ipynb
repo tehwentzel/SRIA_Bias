{
 "cells": [
  {
   "cell_type": "code",
   "execution_count": 1,
   "id": "cb78f954-5c5d-4051-a47e-3dc8f8b3c267",
   "metadata": {},
   "outputs": [],
   "source": [
    "import torch\n",
    "import pandas as pd\n",
    "import numpy as np\n",
    "import matplotlib.pyplot as plt\n",
    "from PIL import Image\n",
    "from scipy.ndimage import rotate\n",
    "import Utils\n",
    "from Utils import Constants\n",
    "import cv2\n",
    "from facenet_pytorch import InceptionResnetV1\n",
    "from Models import *\n",
    "from DataLoaders import *"
   ]
  },
  {
   "cell_type": "code",
   "execution_count": 5,
   "id": "518257a5-f5b9-4bfb-9c9e-f747d96c4242",
   "metadata": {},
   "outputs": [
    {
     "data": {
      "text/html": [
       "<div>\n",
       "<style scoped>\n",
       "    .dataframe tbody tr th:only-of-type {\n",
       "        vertical-align: middle;\n",
       "    }\n",
       "\n",
       "    .dataframe tbody tr th {\n",
       "        vertical-align: top;\n",
       "    }\n",
       "\n",
       "    .dataframe thead th {\n",
       "        text-align: right;\n",
       "    }\n",
       "</style>\n",
       "<table border=\"1\" class=\"dataframe\">\n",
       "  <thead>\n",
       "    <tr style=\"text-align: right;\">\n",
       "      <th></th>\n",
       "      <th>name</th>\n",
       "      <th>skin_tone</th>\n",
       "      <th>gender</th>\n",
       "      <th>age</th>\n",
       "      <th>is_face</th>\n",
       "    </tr>\n",
       "  </thead>\n",
       "  <tbody>\n",
       "    <tr>\n",
       "      <th>0</th>\n",
       "      <td>TEST0000.png</td>\n",
       "      <td>3</td>\n",
       "      <td>0</td>\n",
       "      <td>2</td>\n",
       "      <td>True</td>\n",
       "    </tr>\n",
       "    <tr>\n",
       "      <th>1</th>\n",
       "      <td>TEST0001.png</td>\n",
       "      <td>2</td>\n",
       "      <td>1</td>\n",
       "      <td>1</td>\n",
       "      <td>True</td>\n",
       "    </tr>\n",
       "    <tr>\n",
       "      <th>2</th>\n",
       "      <td>TEST0002.png</td>\n",
       "      <td>7</td>\n",
       "      <td>1</td>\n",
       "      <td>0</td>\n",
       "      <td>True</td>\n",
       "    </tr>\n",
       "    <tr>\n",
       "      <th>3</th>\n",
       "      <td>TEST0003.png</td>\n",
       "      <td>2</td>\n",
       "      <td>1</td>\n",
       "      <td>1</td>\n",
       "      <td>True</td>\n",
       "    </tr>\n",
       "    <tr>\n",
       "      <th>4</th>\n",
       "      <td>TEST0004.png</td>\n",
       "      <td>7</td>\n",
       "      <td>1</td>\n",
       "      <td>0</td>\n",
       "      <td>False</td>\n",
       "    </tr>\n",
       "    <tr>\n",
       "      <th>...</th>\n",
       "      <td>...</td>\n",
       "      <td>...</td>\n",
       "      <td>...</td>\n",
       "      <td>...</td>\n",
       "      <td>...</td>\n",
       "    </tr>\n",
       "    <tr>\n",
       "      <th>2995</th>\n",
       "      <td>TEST2995.png</td>\n",
       "      <td>2</td>\n",
       "      <td>0</td>\n",
       "      <td>2</td>\n",
       "      <td>True</td>\n",
       "    </tr>\n",
       "    <tr>\n",
       "      <th>2996</th>\n",
       "      <td>TEST2996.png</td>\n",
       "      <td>4</td>\n",
       "      <td>0</td>\n",
       "      <td>1</td>\n",
       "      <td>True</td>\n",
       "    </tr>\n",
       "    <tr>\n",
       "      <th>2997</th>\n",
       "      <td>TEST2997.png</td>\n",
       "      <td>0</td>\n",
       "      <td>1</td>\n",
       "      <td>1</td>\n",
       "      <td>True</td>\n",
       "    </tr>\n",
       "    <tr>\n",
       "      <th>2998</th>\n",
       "      <td>TEST2998.png</td>\n",
       "      <td>3</td>\n",
       "      <td>1</td>\n",
       "      <td>1</td>\n",
       "      <td>True</td>\n",
       "    </tr>\n",
       "    <tr>\n",
       "      <th>2999</th>\n",
       "      <td>TEST2999.png</td>\n",
       "      <td>7</td>\n",
       "      <td>0</td>\n",
       "      <td>0</td>\n",
       "      <td>True</td>\n",
       "    </tr>\n",
       "  </tbody>\n",
       "</table>\n",
       "<p>3000 rows × 5 columns</p>\n",
       "</div>"
      ],
      "text/plain": [
       "              name  skin_tone  gender  age  is_face\n",
       "0     TEST0000.png          3       0    2     True\n",
       "1     TEST0001.png          2       1    1     True\n",
       "2     TEST0002.png          7       1    0     True\n",
       "3     TEST0003.png          2       1    1     True\n",
       "4     TEST0004.png          7       1    0    False\n",
       "...            ...        ...     ...  ...      ...\n",
       "2995  TEST2995.png          2       0    2     True\n",
       "2996  TEST2996.png          4       0    1     True\n",
       "2997  TEST2997.png          0       1    1     True\n",
       "2998  TEST2998.png          3       1    1     True\n",
       "2999  TEST2999.png          7       0    0     True\n",
       "\n",
       "[3000 rows x 5 columns]"
      ]
     },
     "execution_count": 5,
     "metadata": {},
     "output_type": "execute_result"
    }
   ],
   "source": [
    "train_labels = pd.read_csv('train_data_clean.csv')\n",
    "test_labels = pd.read_csv('test_data_clean.csv')\n",
    "test_labels"
   ]
  },
  {
   "cell_type": "code",
   "execution_count": 7,
   "id": "01a53650-82fa-4c96-921a-20a07d94feef",
   "metadata": {
    "scrolled": true,
    "tags": []
   },
   "outputs": [],
   "source": [
    "def get_model(file):\n",
    "    model = torch.load(Constants.model_folder + file).to(torch.device('cpu'))\n",
    "    return model\n",
    "model = get_model('dual_dualfacenet_h400_st600_a400_g400_ed3_std2_ad2_gd2')"
   ]
  },
  {
   "cell_type": "code",
   "execution_count": 58,
   "id": "0f8d0797-0a3c-4b7e-805e-d494c060eba0",
   "metadata": {
    "tags": []
   },
   "outputs": [
    {
     "name": "stdout",
     "output_type": "stream",
     "text": [
      "(2505, 5)\n"
     ]
    },
    {
     "data": {
      "text/plain": [
       "[array([4, 6, 3, ..., 5, 6, 2]),\n",
       " array([2, 1, 1, ..., 1, 1, 1]),\n",
       " array([1, 1, 0, ..., 0, 0, 0])]"
      ]
     },
     "execution_count": 58,
     "metadata": {},
     "output_type": "execute_result"
    }
   ],
   "source": [
    "def eval_labels(model,labels,**kwargs):\n",
    "    device = torch.device('cpu')\n",
    "    names = Constants.labels[:]\n",
    "    model = model.to(device)\n",
    "    dataset = FaceGenerator(labels,Constants.data_root,upsample=False,validation=True,**kwargs)\n",
    "    predicted = [[],[],[]]\n",
    "    actual = [[],[],[]]\n",
    "    with torch.no_grad():\n",
    "        for i,[xbatch, ybatch] in enumerate(dataset):\n",
    "            if i > 10:\n",
    "                break\n",
    "            xbatch = xbatch.to(device)\n",
    "            ypreds = model(xbatch)\n",
    "            for ii,(ytrue,ypred) in enumerate(zip(ybatch,ypreds)):\n",
    "                predicted[ii].append(ypred.detach().numpy())\n",
    "                actual[ii].append(ytrue.detach().numpy())\n",
    "    for i in range(len(predicted)):\n",
    "        predicted[i] = np.concatenate(predicted[i],axis=0)\n",
    "        actual[i] = np.concatenate(actual[i],axis=0)\n",
    "    return actual, predicted\n",
    "y,ypred = eval_labels(model, test_labels)\n",
    "y"
   ]
  },
  {
   "cell_type": "code",
   "execution_count": 59,
   "id": "430f461b-464e-4681-98ae-e695aba17110",
   "metadata": {},
   "outputs": [
    {
     "data": {
      "text/plain": [
       "array([[0.88843787, 0.99322045, 0.9889026 , ..., 0.67692   , 0.9186744 ,\n",
       "        0.800452  ],\n",
       "       [0.9931961 , 0.9998615 , 0.985408  , ..., 0.9969921 , 0.7529983 ,\n",
       "        0.8333596 ],\n",
       "       [0.99999964, 0.98499763, 0.999984  , ..., 0.9612213 , 0.7943875 ,\n",
       "        1.        ]], dtype=float32)"
      ]
     },
     "execution_count": 59,
     "metadata": {},
     "output_type": "execute_result"
    }
   ],
   "source": [
    "def subclass_predictions(ytrue,ypred):\n",
    "    yt = np.stack(ytrue,axis=-1).T\n",
    "    yp = np.stack([np.argmax(yyp,axis=-1) for yyp in ypred])\n",
    "    yp_prob = np.stack([np.amax(yyp,axis=-1) for yyp in ypred])\n",
    "    groupstring = lambda x: '-'.join([str(i) for i in x])\n",
    "    group_p = np.apply_along_axis(groupstring, 0, yp)\n",
    "    group_t = np.apply_along_axis(groupstring, 0, yt)\n",
    "    return group_t, group_p, yp_prob\n",
    "subclass_predictions(y,ypred)[-1]"
   ]
  },
  {
   "cell_type": "code",
   "execution_count": 92,
   "id": "fd6add43-5553-4b25-a83d-36948bb51eae",
   "metadata": {},
   "outputs": [
    {
     "data": {
      "text/html": [
       "<div>\n",
       "<style scoped>\n",
       "    .dataframe tbody tr th:only-of-type {\n",
       "        vertical-align: middle;\n",
       "    }\n",
       "\n",
       "    .dataframe tbody tr th {\n",
       "        vertical-align: top;\n",
       "    }\n",
       "\n",
       "    .dataframe thead th {\n",
       "        text-align: right;\n",
       "    }\n",
       "</style>\n",
       "<table border=\"1\" class=\"dataframe\">\n",
       "  <thead>\n",
       "    <tr style=\"text-align: right;\">\n",
       "      <th></th>\n",
       "      <th>0</th>\n",
       "      <th>1</th>\n",
       "      <th>2</th>\n",
       "      <th>3</th>\n",
       "      <th>differential</th>\n",
       "    </tr>\n",
       "  </thead>\n",
       "  <tbody>\n",
       "    <tr>\n",
       "      <th>accuracy</th>\n",
       "      <td>0.881818</td>\n",
       "      <td>0.691818</td>\n",
       "      <td>0.736364</td>\n",
       "      <td>0.968182</td>\n",
       "      <td>0.276364</td>\n",
       "    </tr>\n",
       "    <tr>\n",
       "      <th>f1</th>\n",
       "      <td>0.719828</td>\n",
       "      <td>0.686401</td>\n",
       "      <td>0.506803</td>\n",
       "      <td>0.477612</td>\n",
       "      <td>0.242216</td>\n",
       "    </tr>\n",
       "    <tr>\n",
       "      <th>precision</th>\n",
       "      <td>0.742222</td>\n",
       "      <td>0.658970</td>\n",
       "      <td>0.534050</td>\n",
       "      <td>0.484848</td>\n",
       "      <td>0.257374</td>\n",
       "    </tr>\n",
       "    <tr>\n",
       "      <th>recall</th>\n",
       "      <td>0.698745</td>\n",
       "      <td>0.716216</td>\n",
       "      <td>0.482201</td>\n",
       "      <td>0.470588</td>\n",
       "      <td>0.245628</td>\n",
       "    </tr>\n",
       "  </tbody>\n",
       "</table>\n",
       "</div>"
      ],
      "text/plain": [
       "                  0         1         2         3  differential\n",
       "accuracy   0.881818  0.691818  0.736364  0.968182      0.276364\n",
       "f1         0.719828  0.686401  0.506803  0.477612      0.242216\n",
       "precision  0.742222  0.658970  0.534050  0.484848      0.257374\n",
       "recall     0.698745  0.716216  0.482201  0.470588      0.245628"
      ]
     },
     "execution_count": 92,
     "metadata": {},
     "output_type": "execute_result"
    }
   ],
   "source": [
    "from sklearn.metrics import accuracy_score, balanced_accuracy_score, f1_score, precision_score, recall_score, roc_auc_score\n",
    "def subgroup_results(y,predicted):\n",
    "    entry = {\n",
    "        'accuracy': accuracy_score(y,predicted),\n",
    "        'f1': f1_score(y,predicted),\n",
    "        'precision': precision_score(y,predicted),\n",
    "        'recall': recall_score(y,predicted),\n",
    "    }\n",
    "    return entry\n",
    "    \n",
    "def get_classwise_metrics(ylist,ypredlist):\n",
    "    labels = Constants.labels[:]\n",
    "    results = {}\n",
    "    getmax = lambda res,key: np.max([v[key] for k,v in res.items()])\n",
    "    getmin = lambda res,key: np.min([v[key] for k,v in res.items()])\n",
    "    for i, name in enumerate(labels):\n",
    "        y = ylist[i]\n",
    "        ypred = ypredlist[i]\n",
    "        classes = np.unique(y)\n",
    "        class_entry = {}\n",
    "        for c in classes:\n",
    "            yset = (y == c).astype(int)\n",
    "            yp = (np.argmax(ypred,axis=1) == c).astype(int)\n",
    "            vals = subgroup_results(yset,yp)\n",
    "            class_entry[c] = vals\n",
    "        extents = {}\n",
    "        for key in class_entry[classes[0]].keys():\n",
    "            maxval = getmax(class_entry,key)\n",
    "            minval = getmin(class_entry,key)\n",
    "            extents[key] = maxval - minval\n",
    "        class_entry['differential'] = extents\n",
    "        results[name] = class_entry\n",
    "    return results\n",
    "        \n",
    "res = get_classwise_metrics(y,ypred)\n",
    "pd.DataFrame(res['age'])"
   ]
  },
  {
   "cell_type": "code",
   "execution_count": 89,
   "id": "c12d8ab6-7988-48dc-b6a1-3df8cd11d24f",
   "metadata": {},
   "outputs": [
    {
     "data": {
      "text/plain": [
       "{'accuracy': 0.25909090909090904,\n",
       " 'f1': 0.2233362143474503,\n",
       " 'precision': 0.1808823529411765,\n",
       " 'recall': 0.3201523565841886}"
      ]
     },
     "execution_count": 89,
     "metadata": {},
     "output_type": "execute_result"
    }
   ],
   "source": [
    "diffs['skin_tone']"
   ]
  },
  {
   "cell_type": "code",
   "execution_count": null,
   "id": "c662a73f-ce34-495c-a4b5-d20bb62980fe",
   "metadata": {},
   "outputs": [],
   "source": []
  }
 ],
 "metadata": {
  "kernelspec": {
   "display_name": "Python 3",
   "language": "python",
   "name": "python3"
  },
  "language_info": {
   "codemirror_mode": {
    "name": "ipython",
    "version": 3
   },
   "file_extension": ".py",
   "mimetype": "text/x-python",
   "name": "python",
   "nbconvert_exporter": "python",
   "pygments_lexer": "ipython3",
   "version": "3.8.10"
  }
 },
 "nbformat": 4,
 "nbformat_minor": 5
}
